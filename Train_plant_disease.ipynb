{
 "cells": [
  {
   "cell_type": "markdown",
   "id": "4ee3bf64-1fde-4c82-be04-90ebae267428",
   "metadata": {},
   "source": [
    "## Importing Libraries"
   ]
  },
  {
   "cell_type": "code",
   "execution_count": null,
   "id": "d1946633-81a0-4e43-bd16-074f9c89d7d3",
   "metadata": {},
   "outputs": [],
   "source": [
    "import tensorflow as tf\n",
    "import matplotlib.pyplot as plt\n",
    "import pandas as pdS\n",
    "import seaborn as sns"
   ]
  },
  {
   "cell_type": "markdown",
   "id": "def6211d-692a-4a27-a205-35299714e8d7",
   "metadata": {},
   "source": [
    "## Data Preprocessing"
   ]
  },
  {
   "cell_type": "markdown",
   "id": "f018ea74-0df0-4fab-9480-a19e5b61722e",
   "metadata": {},
   "source": [
    "### Training Image Preprocessing"
   ]
  },
  {
   "cell_type": "code",
   "execution_count": 2,
   "id": "e0e992b3-7301-4784-bdb1-484e9f5fc7e5",
   "metadata": {},
   "outputs": [
    {
     "name": "stdout",
     "output_type": "stream",
     "text": [
      "Found 27948 files belonging to 15 classes.\n"
     ]
    }
   ],
   "source": [
    "trianing_set= tf.keras.utils.image_dataset_from_directory(\n",
    "    'train',\n",
    "    labels=\"inferred\",\n",
    "    label_mode=\"categorical\",\n",
    "    class_names=None,\n",
    "    color_mode=\"rgb\",\n",
    "    batch_size=32,\n",
    "    image_size=(128, 128),\n",
    "    shuffle=True,\n",
    "    seed=None,\n",
    "    validation_split=None,\n",
    "    subset=None,\n",
    "    interpolation=\"bilinear\",\n",
    "    follow_links=False,\n",
    "    crop_to_aspect_ratio=False,\n",
    "   \n",
    ")"
   ]
  },
  {
   "cell_type": "markdown",
   "id": "9d081c9d-1f79-491c-bb7a-b9e2fc60bdce",
   "metadata": {},
   "source": [
    "### Validation Image Preprocessing"
   ]
  },
  {
   "cell_type": "code",
   "execution_count": null,
   "id": "6fc5ef3c-c6e3-4739-9867-1daa91cdb31a",
   "metadata": {},
   "outputs": [
    {
     "name": "stdout",
     "output_type": "stream",
     "text": [
      "Found 6986 files belonging to 15 classes.\n"
     ]
    }
   ],
   "source": [
    "validation_set= tf.keras.utils.image_dataset_from_directory(\n",
    "    'valid',\n",
    "    labels=\"inferred\",\n",
    "    label_mode=\"categorical\",\n",
    "    class_names=None,\n",
    "    color_mode=\"rgb\",\n",
    "    batch_size=32,\n",
    "    image_size=(128, 128),\n",
    "    shuffle=True,\n",
    "    seed=None,\n",
    "    validation_split=None,\n",
    "    subset=None,\n",
    "    interpolation=\"bilinear\",\n",
    "    follow_links=False,\n",
    "    crop_to_aspect_ratio=False,\n",
    "   \n",
    ")"
   ]
  },
  {
   "cell_type": "code",
   "execution_count": 4,
   "id": "455860e8-2502-47ae-acf3-d08069b03379",
   "metadata": {},
   "outputs": [
    {
     "data": {
      "text/plain": [
       "<BatchDataset element_spec=(TensorSpec(shape=(None, 128, 128, 3), dtype=tf.float32, name=None), TensorSpec(shape=(None, 15), dtype=tf.float32, name=None))>"
      ]
     },
     "execution_count": 4,
     "metadata": {},
     "output_type": "execute_result"
    }
   ],
   "source": [
    "trianing_set"
   ]
  },
  {
   "cell_type": "code",
   "execution_count": null,
   "id": "d8cea68e-41f1-487e-b7ec-10d807663a2d",
   "metadata": {
    "scrolled": true
   },
   "outputs": [
    {
     "name": "stdout",
     "output_type": "stream",
     "text": [
      "tf.Tensor(\n",
      "[[[[  0.     0.     0.  ]\n",
      "   [  0.     0.     0.  ]\n",
      "   [  0.     0.     0.  ]\n",
      "   ...\n",
      "   [  0.     0.     0.  ]\n",
      "   [  0.     0.     0.  ]\n",
      "   [  0.     0.     0.  ]]\n",
      "\n",
      "  [[  0.     0.     0.  ]\n",
      "   [  0.     0.     0.  ]\n",
      "   [  0.     0.     0.  ]\n",
      "   ...\n",
      "   [  0.     0.     0.  ]\n",
      "   [  0.     0.     0.  ]\n",
      "   [  0.     0.     0.  ]]\n",
      "\n",
      "  [[  0.     0.     0.  ]\n",
      "   [  0.     0.     0.  ]\n",
      "   [  0.     0.     0.  ]\n",
      "   ...\n",
      "   [  0.     0.     0.  ]\n",
      "   [  0.     0.     0.  ]\n",
      "   [  0.     0.     0.  ]]\n",
      "\n",
      "  ...\n",
      "\n",
      "  [[  0.     0.     0.  ]\n",
      "   [  0.     0.     0.  ]\n",
      "   [  0.     0.     0.  ]\n",
      "   ...\n",
      "   [  0.     0.     0.  ]\n",
      "   [  0.     0.     0.  ]\n",
      "   [  0.     0.     0.  ]]\n",
      "\n",
      "  [[  0.     0.     0.  ]\n",
      "   [  0.     0.     0.  ]\n",
      "   [  0.     0.     0.  ]\n",
      "   ...\n",
      "   [  0.     0.     0.  ]\n",
      "   [  0.     0.     0.  ]\n",
      "   [  0.     0.     0.  ]]\n",
      "\n",
      "  [[  0.     0.     0.  ]\n",
      "   [  0.     0.     0.  ]\n",
      "   [  0.     0.     0.  ]\n",
      "   ...\n",
      "   [  0.     0.     0.  ]\n",
      "   [  0.     0.     0.  ]\n",
      "   [  0.     0.     0.  ]]]\n",
      "\n",
      "\n",
      " [[[194.25 180.25 195.25]\n",
      "   [182.75 168.75 183.75]\n",
      "   [206.   192.   207.  ]\n",
      "   ...\n",
      "   [207.25 186.25 201.25]\n",
      "   [201.25 180.25 195.25]\n",
      "   [195.25 174.25 189.25]]\n",
      "\n",
      "  [[184.   170.   185.  ]\n",
      "   [207.5  193.5  208.5 ]\n",
      "   [199.75 185.75 200.75]\n",
      "   ...\n",
      "   [208.5  187.5  202.5 ]\n",
      "   [207.25 186.25 201.25]\n",
      "   [204.25 183.25 198.25]]\n",
      "\n",
      "  [[166.25 152.25 167.25]\n",
      "   [189.25 175.25 190.25]\n",
      "   [188.   174.   189.  ]\n",
      "   ...\n",
      "   [200.75 182.75 196.75]\n",
      "   [203.75 185.75 199.75]\n",
      "   [209.   191.   205.  ]]\n",
      "\n",
      "  ...\n",
      "\n",
      "  [[237.   229.   240.  ]\n",
      "   [243.75 235.75 246.75]\n",
      "   [223.75 215.75 226.75]\n",
      "   ...\n",
      "   [238.   230.   241.  ]\n",
      "   [237.75 229.75 240.75]\n",
      "   [237.5  229.5  240.5 ]]\n",
      "\n",
      "  [[233.75 225.75 236.75]\n",
      "   [242.75 234.75 245.75]\n",
      "   [236.   228.   239.  ]\n",
      "   ...\n",
      "   [234.75 226.75 237.75]\n",
      "   [234.   226.   237.  ]\n",
      "   [233.   225.   236.  ]]\n",
      "\n",
      "  [[237.5  229.5  240.5 ]\n",
      "   [226.75 218.75 229.75]\n",
      "   [233.5  225.5  236.5 ]\n",
      "   ...\n",
      "   [232.5  224.5  235.5 ]\n",
      "   [230.5  222.5  233.5 ]\n",
      "   [229.25 221.25 232.25]]]\n",
      "\n",
      "\n",
      " [[[108.75  94.75 109.75]\n",
      "   [113.75  99.75 114.75]\n",
      "   [100.    86.   101.  ]\n",
      "   ...\n",
      "   [116.5  102.5  125.5 ]\n",
      "   [117.75 103.75 126.75]\n",
      "   [114.25 100.25 123.25]]\n",
      "\n",
      "  [[116.25 102.25 117.25]\n",
      "   [121.5  107.5  122.5 ]\n",
      "   [107.75  93.75 108.75]\n",
      "   ...\n",
      "   [122.5  108.5  131.5 ]\n",
      "   [122.75 108.75 131.75]\n",
      "   [123.75 109.75 132.75]]\n",
      "\n",
      "  [[ 93.25  79.25  94.25]\n",
      "   [115.25 101.25 116.25]\n",
      "   [108.    94.   109.  ]\n",
      "   ...\n",
      "   [118.   104.   127.  ]\n",
      "   [117.5  103.5  126.5 ]\n",
      "   [119.5  105.5  128.5 ]]\n",
      "\n",
      "  ...\n",
      "\n",
      "  [[152.75 144.75 165.75]\n",
      "   [150.75 142.75 163.75]\n",
      "   [158.5  150.5  171.5 ]\n",
      "   ...\n",
      "   [169.75 161.75 184.75]\n",
      "   [170.   162.   185.  ]\n",
      "   [167.25 159.25 182.25]]\n",
      "\n",
      "  [[164.5  156.5  179.5 ]\n",
      "   [173.25 165.25 188.25]\n",
      "   [160.5  152.5  175.5 ]\n",
      "   ...\n",
      "   [173.25 165.25 188.25]\n",
      "   [170.75 162.75 185.75]\n",
      "   [167.5  159.5  182.5 ]]\n",
      "\n",
      "  [[160.   152.   175.  ]\n",
      "   [166.25 158.25 181.25]\n",
      "   [162.25 154.25 177.25]\n",
      "   ...\n",
      "   [169.   161.   184.  ]\n",
      "   [168.5  160.5  183.5 ]\n",
      "   [171.25 163.25 186.25]]]\n",
      "\n",
      "\n",
      " ...\n",
      "\n",
      "\n",
      " [[[133.   121.   135.  ]\n",
      "   [124.25 112.25 126.25]\n",
      "   [101.75  89.75 103.75]\n",
      "   ...\n",
      "   [137.5  126.5  142.5 ]\n",
      "   [138.25 127.25 143.25]\n",
      "   [143.75 132.75 148.75]]\n",
      "\n",
      "  [[114.75 102.75 116.75]\n",
      "   [112.   100.   114.  ]\n",
      "   [126.5  114.5  128.5 ]\n",
      "   ...\n",
      "   [137.   126.   142.  ]\n",
      "   [134.75 123.75 139.75]\n",
      "   [143.75 132.75 148.75]]\n",
      "\n",
      "  [[125.75 113.75 127.75]\n",
      "   [122.25 110.25 124.25]\n",
      "   [108.5   96.5  110.5 ]\n",
      "   ...\n",
      "   [135.   124.   140.  ]\n",
      "   [131.25 120.25 136.25]\n",
      "   [145.25 134.25 150.25]]\n",
      "\n",
      "  ...\n",
      "\n",
      "  [[155.   144.   161.  ]\n",
      "   [155.   144.   161.  ]\n",
      "   [155.5  144.5  161.5 ]\n",
      "   ...\n",
      "   [178.25 172.25 186.25]\n",
      "   [182.75 176.75 190.75]\n",
      "   [180.25 174.25 188.25]]\n",
      "\n",
      "  [[152.25 141.25 158.25]\n",
      "   [154.5  143.5  160.5 ]\n",
      "   [152.   141.   158.  ]\n",
      "   ...\n",
      "   [183.5  177.5  191.5 ]\n",
      "   [181.5  175.5  189.5 ]\n",
      "   [190.   184.   198.  ]]\n",
      "\n",
      "  [[150.25 139.25 156.25]\n",
      "   [150.   139.   156.  ]\n",
      "   [145.5  134.5  151.5 ]\n",
      "   ...\n",
      "   [176.5  170.5  184.5 ]\n",
      "   [182.5  176.5  190.5 ]\n",
      "   [184.   178.   192.  ]]]\n",
      "\n",
      "\n",
      " [[[166.   152.   152.  ]\n",
      "   [165.   151.   151.  ]\n",
      "   [158.25 144.25 144.25]\n",
      "   ...\n",
      "   [166.25 152.25 152.25]\n",
      "   [166.   152.   152.  ]\n",
      "   [156.75 142.75 142.75]]\n",
      "\n",
      "  [[154.   140.   140.  ]\n",
      "   [156.   142.   142.  ]\n",
      "   [149.75 135.75 135.75]\n",
      "   ...\n",
      "   [158.25 144.25 144.25]\n",
      "   [163.   149.   149.  ]\n",
      "   [143.25 129.25 129.25]]\n",
      "\n",
      "  [[158.25 144.25 144.25]\n",
      "   [159.   145.   145.  ]\n",
      "   [164.5  150.5  150.5 ]\n",
      "   ...\n",
      "   [158.5  144.5  144.5 ]\n",
      "   [154.75 140.75 140.75]\n",
      "   [158.75 144.75 144.75]]\n",
      "\n",
      "  ...\n",
      "\n",
      "  [[161.75 151.75 150.75]\n",
      "   [160.25 150.25 149.25]\n",
      "   [178.   168.   167.  ]\n",
      "   ...\n",
      "   [152.25 140.25 140.25]\n",
      "   [163.25 151.25 151.25]\n",
      "   [171.   159.   159.  ]]\n",
      "\n",
      "  [[141.   131.   130.  ]\n",
      "   [172.5  162.5  161.5 ]\n",
      "   [170.   160.   159.  ]\n",
      "   ...\n",
      "   [155.25 143.25 143.25]\n",
      "   [169.25 157.25 157.25]\n",
      "   [167.5  155.5  155.5 ]]\n",
      "\n",
      "  [[156.   146.   145.  ]\n",
      "   [170.   160.   159.  ]\n",
      "   [166.75 156.75 155.75]\n",
      "   ...\n",
      "   [153.25 141.25 141.25]\n",
      "   [149.5  137.5  137.5 ]\n",
      "   [150.5  138.5  138.5 ]]]\n",
      "\n",
      "\n",
      " [[[131.5  113.5  113.5 ]\n",
      "   [133.5  115.5  115.5 ]\n",
      "   [127.25 109.25 109.25]\n",
      "   ...\n",
      "   [158.   146.   150.  ]\n",
      "   [153.75 141.75 145.75]\n",
      "   [157.25 145.25 149.25]]\n",
      "\n",
      "  [[137.75 119.75 119.75]\n",
      "   [131.75 113.75 113.75]\n",
      "   [130.   112.   112.  ]\n",
      "   ...\n",
      "   [145.75 133.75 137.75]\n",
      "   [171.5  159.5  163.5 ]\n",
      "   [186.25 174.25 178.25]]\n",
      "\n",
      "  [[132.5  114.5  114.5 ]\n",
      "   [142.   124.   124.  ]\n",
      "   [142.75 124.75 124.75]\n",
      "   ...\n",
      "   [156.75 144.75 148.75]\n",
      "   [174.5  162.5  166.5 ]\n",
      "   [183.25 171.25 175.25]]\n",
      "\n",
      "  ...\n",
      "\n",
      "  [[146.75 133.75 140.75]\n",
      "   [142.25 129.25 136.25]\n",
      "   [131.25 118.25 125.25]\n",
      "   ...\n",
      "   [172.75 161.75 167.75]\n",
      "   [172.   161.   167.  ]\n",
      "   [169.25 158.25 164.25]]\n",
      "\n",
      "  [[112.25  99.25 106.25]\n",
      "   [135.75 122.75 129.75]\n",
      "   [138.   125.   132.  ]\n",
      "   ...\n",
      "   [162.5  151.5  157.5 ]\n",
      "   [168.25 157.25 163.25]\n",
      "   [173.   162.   168.  ]]\n",
      "\n",
      "  [[141.5  128.5  135.5 ]\n",
      "   [136.5  123.5  130.5 ]\n",
      "   [138.5  125.5  132.5 ]\n",
      "   ...\n",
      "   [163.75 152.75 158.75]\n",
      "   [174.75 163.75 169.75]\n",
      "   [174.5  163.5  169.5 ]]]], shape=(32, 128, 128, 3), dtype=float32) (32, 128, 128, 3)\n",
      "tf.Tensor(\n",
      "[[0. 1. 0. 0. 0. 0. 0. 0. 0. 0. 0. 0. 0. 0. 0.]\n",
      " [1. 0. 0. 0. 0. 0. 0. 0. 0. 0. 0. 0. 0. 0. 0.]\n",
      " [1. 0. 0. 0. 0. 0. 0. 0. 0. 0. 0. 0. 0. 0. 0.]\n",
      " [0. 0. 0. 0. 0. 0. 0. 1. 0. 0. 0. 0. 0. 0. 0.]\n",
      " [0. 0. 0. 0. 0. 0. 0. 0. 0. 0. 0. 0. 0. 0. 1.]\n",
      " [0. 0. 1. 0. 0. 0. 0. 0. 0. 0. 0. 0. 0. 0. 0.]\n",
      " [0. 0. 0. 0. 1. 0. 0. 0. 0. 0. 0. 0. 0. 0. 0.]\n",
      " [0. 0. 1. 0. 0. 0. 0. 0. 0. 0. 0. 0. 0. 0. 0.]\n",
      " [0. 0. 0. 0. 0. 0. 0. 0. 0. 0. 1. 0. 0. 0. 0.]\n",
      " [0. 0. 0. 0. 0. 1. 0. 0. 0. 0. 0. 0. 0. 0. 0.]\n",
      " [0. 0. 0. 0. 0. 1. 0. 0. 0. 0. 0. 0. 0. 0. 0.]\n",
      " [0. 0. 0. 0. 0. 0. 0. 1. 0. 0. 0. 0. 0. 0. 0.]\n",
      " [0. 0. 0. 0. 0. 0. 0. 0. 0. 0. 0. 0. 0. 1. 0.]\n",
      " [0. 0. 0. 0. 0. 0. 0. 0. 0. 0. 1. 0. 0. 0. 0.]\n",
      " [0. 0. 0. 0. 0. 0. 0. 0. 1. 0. 0. 0. 0. 0. 0.]\n",
      " [0. 0. 0. 0. 0. 0. 0. 1. 0. 0. 0. 0. 0. 0. 0.]\n",
      " [0. 0. 0. 0. 0. 0. 0. 0. 0. 0. 0. 0. 0. 0. 1.]\n",
      " [0. 0. 0. 0. 0. 0. 0. 0. 0. 1. 0. 0. 0. 0. 0.]\n",
      " [0. 0. 0. 0. 0. 0. 0. 0. 0. 0. 0. 0. 0. 1. 0.]\n",
      " [0. 0. 0. 0. 0. 1. 0. 0. 0. 0. 0. 0. 0. 0. 0.]\n",
      " [0. 0. 0. 0. 0. 0. 0. 1. 0. 0. 0. 0. 0. 0. 0.]\n",
      " [0. 0. 0. 0. 0. 0. 0. 0. 0. 0. 0. 1. 0. 0. 0.]\n",
      " [0. 0. 0. 0. 0. 0. 0. 0. 1. 0. 0. 0. 0. 0. 0.]\n",
      " [0. 0. 0. 0. 0. 0. 0. 0. 1. 0. 0. 0. 0. 0. 0.]\n",
      " [0. 0. 0. 0. 0. 0. 0. 0. 0. 0. 0. 1. 0. 0. 0.]\n",
      " [0. 0. 0. 0. 0. 0. 1. 0. 0. 0. 0. 0. 0. 0. 0.]\n",
      " [0. 0. 0. 0. 0. 0. 1. 0. 0. 0. 0. 0. 0. 0. 0.]\n",
      " [0. 0. 0. 0. 0. 0. 0. 0. 0. 0. 0. 0. 0. 0. 1.]\n",
      " [0. 0. 0. 0. 0. 0. 0. 0. 0. 0. 1. 0. 0. 0. 0.]\n",
      " [0. 0. 0. 0. 0. 0. 0. 0. 0. 0. 0. 1. 0. 0. 0.]\n",
      " [1. 0. 0. 0. 0. 0. 0. 0. 0. 0. 0. 0. 0. 0. 0.]\n",
      " [0. 0. 0. 0. 0. 0. 0. 0. 0. 0. 0. 1. 0. 0. 0.]], shape=(32, 15), dtype=float32) (32, 15)\n"
     ]
    }
   ],
   "source": [
    "for x,y in trianing_set:\n",
    "    print(x,x.shape)\n",
    "    print(y,y.shape)\n",
    "    break"
   ]
  },
  {
   "cell_type": "markdown",
   "id": "8ca2041c-9a93-4e22-b184-b4406e228415",
   "metadata": {},
   "source": [
    "### To avoid Overshooting\n",
    "1. Choose small learning rate default 0.001 we are taking 0.0001\n",
    "2. There may be a chance of underfitting, so increase number of neuron\n",
    "3. Add more convulation layer to extract more feature from images there may be posssibility  that model unable to capture relevent feature or model is confusing due to lack of features so feed with more features\n",
    "   "
   ]
  },
  {
   "cell_type": "markdown",
   "id": "6b6c575c-8fbf-4f5f-838f-e9329d49e673",
   "metadata": {},
   "source": [
    "## Building Model"
   ]
  },
  {
   "cell_type": "code",
   "execution_count": 1,
   "id": "0e042dd2-6607-4b50-a1cc-e4601a5fd92c",
   "metadata": {},
   "outputs": [],
   "source": [
    "from tensorflow.keras.layers import Dense,Conv2D,MaxPool2D,Flatten,Dropout\n",
    "from tensorflow.keras.models import Sequential"
   ]
  },
  {
   "cell_type": "code",
   "execution_count": 7,
   "id": "c4301b3d-5b8c-44d3-bc39-c66663c94025",
   "metadata": {},
   "outputs": [],
   "source": [
    "model=Sequential()"
   ]
  },
  {
   "cell_type": "code",
   "execution_count": 8,
   "id": "dd8d781d-acf7-48ca-8b0b-1891eb5f8a9a",
   "metadata": {},
   "outputs": [],
   "source": [
    "## Building Convulation layer"
   ]
  },
  {
   "cell_type": "code",
   "execution_count": 9,
   "id": "ad77ead8-53e3-45ee-a24e-13838a5d9baa",
   "metadata": {},
   "outputs": [],
   "source": [
    "model.add(Conv2D(filters=32,kernel_size=3,padding='same',activation='relu',input_shape=[128,128,3]))\n",
    "model.add(Conv2D(filters=32,kernel_size=3,activation='relu'))\n",
    "model.add(MaxPool2D(pool_size=2,strides=2))"
   ]
  },
  {
   "cell_type": "code",
   "execution_count": 10,
   "id": "2ceef30b-bc6d-4d6a-b291-4191c251aff3",
   "metadata": {},
   "outputs": [],
   "source": [
    "model.add(Conv2D(filters=64,kernel_size=3,padding='same',activation='relu'))\n",
    "model.add(Conv2D(filters=64,kernel_size=3,activation='relu'))\n",
    "model.add(MaxPool2D(pool_size=2,strides=2))"
   ]
  },
  {
   "cell_type": "code",
   "execution_count": 11,
   "id": "6461e6b7-a027-4b20-9123-1a5e5c23c920",
   "metadata": {},
   "outputs": [],
   "source": [
    "model.add(Conv2D(filters=128,kernel_size=3,padding='same',activation='relu'))\n",
    "model.add(Conv2D(filters=128,kernel_size=3,activation='relu'))\n",
    "model.add(MaxPool2D(pool_size=2,strides=2))"
   ]
  },
  {
   "cell_type": "code",
   "execution_count": 12,
   "id": "696c2b44-a81e-46a0-a1e8-8c622c074f3c",
   "metadata": {},
   "outputs": [],
   "source": [
    "model.add(Conv2D(filters=256,kernel_size=3,padding='same',activation='relu'))\n",
    "model.add(Conv2D(filters=256,kernel_size=3,activation='relu'))\n",
    "model.add(MaxPool2D(pool_size=2,strides=2))"
   ]
  },
  {
   "cell_type": "code",
   "execution_count": 13,
   "id": "6af04069-c424-4e27-bad6-e4cf0ca1c637",
   "metadata": {},
   "outputs": [],
   "source": [
    "model.add(Conv2D(filters=512,kernel_size=3,padding='same',activation='relu'))\n",
    "model.add(Conv2D(filters=512,kernel_size=3,activation='relu'))\n",
    "model.add(MaxPool2D(pool_size=2,strides=2))"
   ]
  },
  {
   "cell_type": "code",
   "execution_count": 14,
   "id": "703db6a0-280e-4692-bf21-aa3d7b0a78ee",
   "metadata": {},
   "outputs": [],
   "source": [
    "model.add(Dropout(0.25))  #To avoid overfitting"
   ]
  },
  {
   "cell_type": "code",
   "execution_count": 15,
   "id": "f869e827-bfe7-4fff-88b9-122425a10d90",
   "metadata": {},
   "outputs": [],
   "source": [
    "model.add(Flatten())"
   ]
  },
  {
   "cell_type": "code",
   "execution_count": 16,
   "id": "0f3b9d2f-e701-4994-b105-703449aa35b7",
   "metadata": {},
   "outputs": [],
   "source": [
    "model.add(Dense(units=1200,activation='relu'))"
   ]
  },
  {
   "cell_type": "code",
   "execution_count": 17,
   "id": "6bdecbce-5927-48eb-aef1-d70388489b0d",
   "metadata": {},
   "outputs": [],
   "source": [
    "model.add(Dropout(0.4))"
   ]
  },
  {
   "cell_type": "code",
   "execution_count": 18,
   "id": "bb8f9502-c21c-4363-bb11-a904114041b0",
   "metadata": {},
   "outputs": [],
   "source": [
    "#Output Layer\n",
    "model.add(Dense(units=15,activation='softmax'))"
   ]
  },
  {
   "cell_type": "markdown",
   "id": "7473c03b-da5e-4d6b-b615-68ec07e9bbf1",
   "metadata": {},
   "source": [
    "### Compiling Model"
   ]
  },
  {
   "cell_type": "code",
   "execution_count": 19,
   "id": "b9f42e9e-fea5-466c-a886-1252bad4966a",
   "metadata": {},
   "outputs": [],
   "source": [
    "model.compile(optimizer=tf.keras.optimizers.Adam(\n",
    "    learning_rate=0.0001),loss='categorical_crossentropy',metrics=['accuracy'])"
   ]
  },
  {
   "cell_type": "code",
   "execution_count": 20,
   "id": "b5cd3720-f626-4ba0-95d1-fe63d222f5c5",
   "metadata": {
    "scrolled": true
   },
   "outputs": [
    {
     "name": "stdout",
     "output_type": "stream",
     "text": [
      "Model: \"sequential\"\n",
      "_________________________________________________________________\n",
      " Layer (type)                Output Shape              Param #   \n",
      "=================================================================\n",
      " conv2d (Conv2D)             (None, 128, 128, 32)      896       \n",
      "                                                                 \n",
      " conv2d_1 (Conv2D)           (None, 126, 126, 32)      9248      \n",
      "                                                                 \n",
      " max_pooling2d (MaxPooling2D  (None, 63, 63, 32)       0         \n",
      " )                                                               \n",
      "                                                                 \n",
      " conv2d_2 (Conv2D)           (None, 63, 63, 64)        18496     \n",
      "                                                                 \n",
      " conv2d_3 (Conv2D)           (None, 61, 61, 64)        36928     \n",
      "                                                                 \n",
      " max_pooling2d_1 (MaxPooling  (None, 30, 30, 64)       0         \n",
      " 2D)                                                             \n",
      "                                                                 \n",
      " conv2d_4 (Conv2D)           (None, 30, 30, 128)       73856     \n",
      "                                                                 \n",
      " conv2d_5 (Conv2D)           (None, 28, 28, 128)       147584    \n",
      "                                                                 \n",
      " max_pooling2d_2 (MaxPooling  (None, 14, 14, 128)      0         \n",
      " 2D)                                                             \n",
      "                                                                 \n",
      " conv2d_6 (Conv2D)           (None, 14, 14, 256)       295168    \n",
      "                                                                 \n",
      " conv2d_7 (Conv2D)           (None, 12, 12, 256)       590080    \n",
      "                                                                 \n",
      " max_pooling2d_3 (MaxPooling  (None, 6, 6, 256)        0         \n",
      " 2D)                                                             \n",
      "                                                                 \n",
      " conv2d_8 (Conv2D)           (None, 6, 6, 512)         1180160   \n",
      "                                                                 \n",
      " conv2d_9 (Conv2D)           (None, 4, 4, 512)         2359808   \n",
      "                                                                 \n",
      " max_pooling2d_4 (MaxPooling  (None, 2, 2, 512)        0         \n",
      " 2D)                                                             \n",
      "                                                                 \n",
      " dropout (Dropout)           (None, 2, 2, 512)         0         \n",
      "                                                                 \n",
      " flatten (Flatten)           (None, 2048)              0         \n",
      "                                                                 \n",
      " dense (Dense)               (None, 1200)              2458800   \n",
      "                                                                 \n",
      " dropout_1 (Dropout)         (None, 1200)              0         \n",
      "                                                                 \n",
      " dense_1 (Dense)             (None, 15)                18015     \n",
      "                                                                 \n",
      "=================================================================\n",
      "Total params: 7,189,039\n",
      "Trainable params: 7,189,039\n",
      "Non-trainable params: 0\n",
      "_________________________________________________________________\n"
     ]
    }
   ],
   "source": [
    "model.summary()"
   ]
  },
  {
   "cell_type": "code",
   "execution_count": 21,
   "id": "e72d137c-6543-49ac-9433-5f639354f780",
   "metadata": {
    "scrolled": true
   },
   "outputs": [
    {
     "name": "stdout",
     "output_type": "stream",
     "text": [
      "Epoch 1/10\n",
      "874/874 [==============================] - 2091s 2s/step - loss: 1.3354 - accuracy: 0.5588 - val_loss: 0.7093 - val_accuracy: 0.7548\n",
      "Epoch 2/10\n",
      "874/874 [==============================] - 2016s 2s/step - loss: 0.5540 - accuracy: 0.8157 - val_loss: 0.5333 - val_accuracy: 0.8202\n",
      "Epoch 3/10\n",
      "874/874 [==============================] - 1932s 2s/step - loss: 0.3392 - accuracy: 0.8869 - val_loss: 0.2962 - val_accuracy: 0.8958\n",
      "Epoch 4/10\n",
      "874/874 [==============================] - 1930s 2s/step - loss: 0.2431 - accuracy: 0.9179 - val_loss: 0.3385 - val_accuracy: 0.8853\n",
      "Epoch 5/10\n",
      "874/874 [==============================] - 1882s 2s/step - loss: 0.1830 - accuracy: 0.9395 - val_loss: 0.2811 - val_accuracy: 0.9087\n",
      "Epoch 6/10\n",
      "874/874 [==============================] - 1926s 2s/step - loss: 0.1398 - accuracy: 0.9508 - val_loss: 0.2099 - val_accuracy: 0.9347\n",
      "Epoch 7/10\n",
      "874/874 [==============================] - 1776s 2s/step - loss: 0.1181 - accuracy: 0.9596 - val_loss: 0.1426 - val_accuracy: 0.9543\n",
      "Epoch 8/10\n",
      "874/874 [==============================] - 2029s 2s/step - loss: 0.0972 - accuracy: 0.9683 - val_loss: 0.1600 - val_accuracy: 0.9479\n",
      "Epoch 9/10\n",
      "874/874 [==============================] - 1982s 2s/step - loss: 0.0883 - accuracy: 0.9701 - val_loss: 0.2150 - val_accuracy: 0.9343\n",
      "Epoch 10/10\n",
      "874/874 [==============================] - 2066s 2s/step - loss: 0.0732 - accuracy: 0.9761 - val_loss: 0.1458 - val_accuracy: 0.9581\n"
     ]
    }
   ],
   "source": [
    "training_history = model.fit(x=trianing_set,validation_data=validation_set,epochs=10)"
   ]
  },
  {
   "cell_type": "markdown",
   "id": "b3adc7c8-e546-4c10-a4c5-89382202b1da",
   "metadata": {},
   "source": [
    "### Model Evaluation"
   ]
  },
  {
   "cell_type": "code",
   "execution_count": 22,
   "id": "96f857fe-5834-4ad7-8610-fc4bd7ab73d6",
   "metadata": {},
   "outputs": [
    {
     "name": "stdout",
     "output_type": "stream",
     "text": [
      "874/874 [==============================] - 446s 509ms/step - loss: 0.0212 - accuracy: 0.9931\n"
     ]
    }
   ],
   "source": [
    "#Model Evaluation on training set\n",
    "train_loss,train_acc=model.evaluate(trianing_set)"
   ]
  },
  {
   "cell_type": "code",
   "execution_count": 23,
   "id": "ae92f4ef-2361-4ec0-8660-18aa41ce804d",
   "metadata": {},
   "outputs": [
    {
     "name": "stdout",
     "output_type": "stream",
     "text": [
      "0.02116265706717968 0.9930585622787476\n"
     ]
    }
   ],
   "source": [
    "print(train_loss,train_acc)"
   ]
  },
  {
   "cell_type": "code",
   "execution_count": 24,
   "id": "c8eb9835-6d81-40ac-ba21-d54066f927d6",
   "metadata": {},
   "outputs": [
    {
     "name": "stdout",
     "output_type": "stream",
     "text": [
      "219/219 [==============================] - 110s 497ms/step - loss: 0.1458 - accuracy: 0.9581\n"
     ]
    }
   ],
   "source": [
    "#Model on validation set\n",
    "val_loss,val_acc=model.evaluate(validation_set)"
   ]
  },
  {
   "cell_type": "code",
   "execution_count": 25,
   "id": "9b1e7c62-0997-42fd-86a4-9d0cad1ac2db",
   "metadata": {},
   "outputs": [
    {
     "name": "stdout",
     "output_type": "stream",
     "text": [
      "0.14576387405395508 0.9580589532852173\n"
     ]
    }
   ],
   "source": [
    "print(val_loss,val_acc)"
   ]
  },
  {
   "cell_type": "markdown",
   "id": "66b197e5-30cf-48dd-b726-9d2c7dc4a147",
   "metadata": {},
   "source": [
    "### Saving Model"
   ]
  },
  {
   "cell_type": "code",
   "execution_count": 48,
   "id": "4d15f686-2fcc-4aef-b0ff-24edd160f1f9",
   "metadata": {},
   "outputs": [],
   "source": [
    "model.save(\"trained_model.keras\")"
   ]
  },
  {
   "cell_type": "code",
   "execution_count": 27,
   "id": "56c448c8-81b4-4bf0-8354-248894290e6b",
   "metadata": {},
   "outputs": [
    {
     "data": {
      "text/plain": [
       "{'loss': [1.3354405164718628,\n",
       "  0.5539596676826477,\n",
       "  0.3391551077365875,\n",
       "  0.24309034645557404,\n",
       "  0.18300700187683105,\n",
       "  0.1397978514432907,\n",
       "  0.11813022196292877,\n",
       "  0.09721359610557556,\n",
       "  0.08828312903642654,\n",
       "  0.0731750875711441],\n",
       " 'accuracy': [0.5587519407272339,\n",
       "  0.8157292008399963,\n",
       "  0.886897087097168,\n",
       "  0.9179189801216125,\n",
       "  0.939494788646698,\n",
       "  0.950837254524231,\n",
       "  0.9596035480499268,\n",
       "  0.9682624936103821,\n",
       "  0.9700872898101807,\n",
       "  0.9760627150535583],\n",
       " 'val_loss': [0.7093144059181213,\n",
       "  0.5333146452903748,\n",
       "  0.29621422290802,\n",
       "  0.3385280966758728,\n",
       "  0.28109052777290344,\n",
       "  0.20994774997234344,\n",
       "  0.1426239162683487,\n",
       "  0.16003090143203735,\n",
       "  0.21495363116264343,\n",
       "  0.14576387405395508],\n",
       " 'val_accuracy': [0.7547953128814697,\n",
       "  0.8202118277549744,\n",
       "  0.8957915902137756,\n",
       "  0.8853421211242676,\n",
       "  0.9086744785308838,\n",
       "  0.9347265958786011,\n",
       "  0.9543372392654419,\n",
       "  0.9478957653045654,\n",
       "  0.9342971444129944,\n",
       "  0.9580589532852173]}"
      ]
     },
     "execution_count": 27,
     "metadata": {},
     "output_type": "execute_result"
    }
   ],
   "source": [
    "training_history.history"
   ]
  },
  {
   "cell_type": "code",
   "execution_count": 28,
   "id": "6c7d675c-d923-4b13-abbb-e7590faba078",
   "metadata": {},
   "outputs": [],
   "source": [
    "#Recording History in json\n",
    "import json\n",
    "with open(\"training_his.json\",\"w\") as f:\n",
    "    json.dump(training_history.history,f)"
   ]
  },
  {
   "cell_type": "code",
   "execution_count": 29,
   "id": "19d444cc-ccaa-421f-9ede-d5386652e5f1",
   "metadata": {},
   "outputs": [
    {
     "data": {
      "text/plain": [
       "[0.7547953128814697,\n",
       " 0.8202118277549744,\n",
       " 0.8957915902137756,\n",
       " 0.8853421211242676,\n",
       " 0.9086744785308838,\n",
       " 0.9347265958786011,\n",
       " 0.9543372392654419,\n",
       " 0.9478957653045654,\n",
       " 0.9342971444129944,\n",
       " 0.9580589532852173]"
      ]
     },
     "execution_count": 29,
     "metadata": {},
     "output_type": "execute_result"
    }
   ],
   "source": [
    "training_history.history['val_accuracy']"
   ]
  },
  {
   "cell_type": "markdown",
   "id": "13a08382-b027-425d-90e4-451f422fa9bc",
   "metadata": {},
   "source": [
    "### Accuracy Visualization"
   ]
  },
  {
   "cell_type": "code",
   "execution_count": 32,
   "id": "2c792bb9-5258-4319-9504-686dc71800dc",
   "metadata": {},
   "outputs": [
    {
     "data": {
      "image/png": "[encoded data removed]",
      "text/plain": [
       "<Figure size 640x480 with 1 Axes>"
      ]
     },
     "metadata": {},
     "output_type": "display_data"
    }
   ],
   "source": [
    "import matplotlib.pyplot as plt\n",
    "\n",
    "epochs = [i for i in range(1,11)]\n",
    "plt.plot(epochs, training_history.history['accuracy'], color='red', label='Training Accuracy')\n",
    "plt.plot(epochs, training_history.history['val_accuracy'], color='blue', label='Validation Accuracy')\n",
    "plt.xlabel(\"No. of Epochs\")\n",
    "plt.ylabel(\"Accuracy Result\")\n",
    "plt.title(\"Visualization of Accuracy Result\")\n",
    "plt.legend()\n",
    "plt.show()\n"
   ]
  },
  {
   "cell_type": "markdown",
   "id": "b1370b49-336d-4d6e-915d-fe0bfd3958ed",
   "metadata": {},
   "source": [
    "### Some Other metrics for model evaluation"
   ]
  },
  {
   "cell_type": "code",
   "execution_count": 33,
   "id": "cc6ceeaf-73e8-4b00-a98a-4fb97399c709",
   "metadata": {},
   "outputs": [
    {
     "data": {
      "text/plain": [
       "['Pepper,_bell___Bacterial_spot',\n",
       " 'Pepper,_bell___healthy',\n",
       " 'Potato___Early_blight',\n",
       " 'Potato___Late_blight',\n",
       " 'Potato___healthy',\n",
       " 'Tomato___Bacterial_spot',\n",
       " 'Tomato___Early_blight',\n",
       " 'Tomato___Late_blight',\n",
       " 'Tomato___Leaf_Mold',\n",
       " 'Tomato___Septoria_leaf_spot',\n",
       " 'Tomato___Spider_mites Two-spotted_spider_mite',\n",
       " 'Tomato___Target_Spot',\n",
       " 'Tomato___Tomato_Yellow_Leaf_Curl_Virus',\n",
       " 'Tomato___Tomato_mosaic_virus',\n",
       " 'Tomato___healthy']"
      ]
     },
     "execution_count": 33,
     "metadata": {},
     "output_type": "execute_result"
    }
   ],
   "source": [
    "class_name=validation_set.class_names\n",
    "class_name"
   ]
  },
  {
   "cell_type": "code",
   "execution_count": 34,
   "id": "e6eec137-03b8-4c00-aa75-81c8fdea9012",
   "metadata": {},
   "outputs": [
    {
     "name": "stdout",
     "output_type": "stream",
     "text": [
      "Found 6986 files belonging to 15 classes.\n"
     ]
    }
   ],
   "source": [
    "test_set = tf.keras.utils.image_dataset_from_directory(\n",
    "    'valid',\n",
    "    labels=\"inferred\",\n",
    "    label_mode=\"categorical\",\n",
    "    class_names=None,\n",
    "    color_mode=\"rgb\",\n",
    "    batch_size=32,\n",
    "    image_size=(128, 128),\n",
    "    shuffle=False,\n",
    "    seed=None,\n",
    "    validation_split=None,\n",
    "    subset=None,\n",
    "    interpolation=\"bilinear\",\n",
    "    follow_links=False,\n",
    "    crop_to_aspect_ratio=False,\n",
    "   \n",
    ")"
   ]
  },
  {
   "cell_type": "code",
   "execution_count": 35,
   "id": "351d5be8-9382-4ce5-bfac-07f42e27e294",
   "metadata": {},
   "outputs": [
    {
     "name": "stdout",
     "output_type": "stream",
     "text": [
      "219/219 [==============================] - 104s 475ms/step\n"
     ]
    },
    {
     "data": {
      "text/plain": [
       "(array([[9.9935466e-01, 8.7388151e-05, 2.0253931e-06, ..., 6.3892469e-09,\n",
       "         5.4910290e-09, 1.7119985e-08],\n",
       "        [1.0000000e+00, 1.8848171e-08, 4.5334257e-16, ..., 3.5937470e-12,\n",
       "         4.1047975e-20, 8.0594032e-19],\n",
       "        [1.0000000e+00, 9.3401571e-12, 6.9781692e-16, ..., 1.9948585e-18,\n",
       "         1.5702774e-22, 1.9492247e-21],\n",
       "        ...,\n",
       "        [1.0160107e-10, 1.3579230e-08, 5.6748375e-09, ..., 3.8576551e-09,\n",
       "         3.3893954e-09, 9.9970704e-01],\n",
       "        [7.5421863e-13, 1.5044514e-10, 4.5649141e-11, ..., 3.6431205e-11,\n",
       "         1.0010592e-10, 9.9999940e-01],\n",
       "        [1.5369288e-16, 6.6351362e-16, 1.2604979e-14, ..., 3.4766009e-16,\n",
       "         1.0467519e-16, 1.0000000e+00]], dtype=float32),\n",
       " (6986, 15))"
      ]
     },
     "execution_count": 35,
     "metadata": {},
     "output_type": "execute_result"
    }
   ],
   "source": [
    "y_pred = model.predict(test_set)\n",
    "y_pred,y_pred.shape"
   ]
  },
  {
   "cell_type": "code",
   "execution_count": 36,
   "id": "3d3a6703-7d4b-4503-8a9c-61091134397e",
   "metadata": {},
   "outputs": [],
   "source": [
    "predicted_categories=tf.argmax(y_pred,axis=1)"
   ]
  },
  {
   "cell_type": "code",
   "execution_count": 37,
   "id": "313f0d8f-58b8-4c0b-a57d-f51f07149941",
   "metadata": {},
   "outputs": [
    {
     "data": {
      "text/plain": [
       "<tf.Tensor: shape=(6986,), dtype=int64, numpy=array([ 0,  0,  0, ..., 14, 14, 14], dtype=int64)>"
      ]
     },
     "execution_count": 37,
     "metadata": {},
     "output_type": "execute_result"
    }
   ],
   "source": [
    "predicted_categories"
   ]
  },
  {
   "cell_type": "code",
   "execution_count": 39,
   "id": "1da64375-c3be-466a-9e60-97d857c4e0f5",
   "metadata": {},
   "outputs": [
    {
     "data": {
      "text/plain": [
       "<tf.Tensor: shape=(6986, 15), dtype=float32, numpy=\n",
       "array([[1., 0., 0., ..., 0., 0., 0.],\n",
       "       [1., 0., 0., ..., 0., 0., 0.],\n",
       "       [1., 0., 0., ..., 0., 0., 0.],\n",
       "       ...,\n",
       "       [0., 0., 0., ..., 0., 0., 1.],\n",
       "       [0., 0., 0., ..., 0., 0., 1.],\n",
       "       [0., 0., 0., ..., 0., 0., 1.]], dtype=float32)>"
      ]
     },
     "execution_count": 39,
     "metadata": {},
     "output_type": "execute_result"
    }
   ],
   "source": [
    "true_categories = tf.concat([y for x, y in test_set], axis=0)\n",
    "true_categories\n"
   ]
  },
  {
   "cell_type": "code",
   "execution_count": 40,
   "id": "3a451120-c90e-4ff7-a99f-27b685d6ed97",
   "metadata": {},
   "outputs": [
    {
     "data": {
      "text/plain": [
       "<tf.Tensor: shape=(6986,), dtype=int64, numpy=array([ 0,  0,  0, ..., 14, 14, 14], dtype=int64)>"
      ]
     },
     "execution_count": 40,
     "metadata": {},
     "output_type": "execute_result"
    }
   ],
   "source": [
    "Y_true=tf.argmax(true_categories,axis=1)\n",
    "Y_true"
   ]
  },
  {
   "cell_type": "code",
   "execution_count": 42,
   "id": "617350ab-82f8-4daf-8776-829b0d9900fd",
   "metadata": {},
   "outputs": [],
   "source": [
    "from sklearn.metrics import classification_report\n"
   ]
  },
  {
   "cell_type": "code",
   "execution_count": 43,
   "id": "e4b38a51-054e-4ead-a775-f775a102935a",
   "metadata": {},
   "outputs": [
    {
     "name": "stdout",
     "output_type": "stream",
     "text": [
      "                                               precision    recall  f1-score   support\n",
      "\n",
      "                Pepper,_bell___Bacterial_spot       0.98      0.95      0.97       478\n",
      "                       Pepper,_bell___healthy       0.97      0.98      0.98       497\n",
      "                        Potato___Early_blight       0.97      1.00      0.98       485\n",
      "                         Potato___Late_blight       0.98      0.95      0.96       485\n",
      "                             Potato___healthy       0.99      0.97      0.98       456\n",
      "                      Tomato___Bacterial_spot       0.97      0.98      0.97       425\n",
      "                        Tomato___Early_blight       0.90      0.94      0.92       480\n",
      "                         Tomato___Late_blight       0.95      0.92      0.93       463\n",
      "                           Tomato___Leaf_Mold       0.95      0.99      0.97       470\n",
      "                  Tomato___Septoria_leaf_spot       0.96      0.85      0.90       436\n",
      "Tomato___Spider_mites Two-spotted_spider_mite       0.96      0.94      0.95       435\n",
      "                         Tomato___Target_Spot       0.89      0.91      0.90       457\n",
      "       Tomato___Tomato_Yellow_Leaf_Curl_Virus       0.99      0.99      0.99       490\n",
      "                 Tomato___Tomato_mosaic_virus       0.97      1.00      0.98       448\n",
      "                             Tomato___healthy       0.95      0.99      0.97       481\n",
      "\n",
      "                                     accuracy                           0.96      6986\n",
      "                                    macro avg       0.96      0.96      0.96      6986\n",
      "                                 weighted avg       0.96      0.96      0.96      6986\n",
      "\n"
     ]
    }
   ],
   "source": [
    "print(classification_report(Y_true,predicted_categories,target_names=class_name))"
   ]
  },
  {
   "cell_type": "code",
   "execution_count": 45,
   "id": "013497db-8a5a-4067-aaa2-e21e37a97de3",
   "metadata": {},
   "outputs": [
    {
     "data": {
      "text/plain": [
       "(15, 15)"
      ]
     },
     "execution_count": 45,
     "metadata": {},
     "output_type": "execute_result"
    }
   ],
   "source": [
    "from sklearn.metrics import confusion_matrix\n",
    "\n",
    "# Assume Y_true and predicted_categories are your true labels and predicted labels respectively\n",
    "cm = confusion_matrix(Y_true, predicted_categories)\n",
    "cm_shape = cm.shape\n",
    "cm_shape\n"
   ]
  },
  {
   "cell_type": "code",
   "execution_count": null,
   "id": "75eddf1e-196d-4813-8302-c2d3cd0d46f2",
   "metadata": {},
   "outputs": [],
   "source": []
  },
  {
   "cell_type": "markdown",
   "id": "3dc4a7e6-95d0-4ee7-ad32-4b7ac3244ee4",
   "metadata": {},
   "source": [
    "### Confusion Maatrix Visualization"
   ]
  },
  {
   "cell_type": "code",
   "execution_count": 46,
   "id": "793bcde3-d7bc-41c0-a81c-516bbf889adc",
   "metadata": {},
   "outputs": [
    {
     "data": {
      "image/png": "[encoded data removed]",
      "text/plain": [
       "<Figure size 4000x4000 with 2 Axes>"
      ]
     },
     "metadata": {},
     "output_type": "display_data"
    }
   ],
   "source": [
    "plt.figure(figsize=(40,40))\n",
    "sns.heatmap(cm,annot=True)\n",
    "plt.xlabel(\"Predicted Class\",fontsize=20)\n",
    "plt.ylabel(\"Actual Class\")\n",
    "plt.title(\"Plant Disease Prediction Confusion Matrix\",fontsize=25)\n",
    "plt.show()"
   ]
  },
  {
   "cell_type": "code",
   "execution_count": null,
   "id": "e90977a9-cf7f-4dc5-a59f-9d7137a12d1f",
   "metadata": {},
   "outputs": [],
   "source": []
  },
  {
   "cell_type": "code",
   "execution_count": null,
   "id": "3d6d9052-f6a8-4b1c-a106-8f5236939655",
   "metadata": {},
   "outputs": [],
   "source": []
  },
  {
   "cell_type": "code",
   "execution_count": null,
   "id": "3775efd1-a2ca-4ed9-8718-f6289024df0f",
   "metadata": {},
   "outputs": [],
   "source": []
  },
  {
   "cell_type": "code",
   "execution_count": null,
   "id": "ea40e7e6-f1ff-4328-b3eb-e664dfe42184",
   "metadata": {},
   "outputs": [],
   "source": []
  },
  {
   "cell_type": "code",
   "execution_count": null,
   "id": "416a8196-1961-4845-b273-3b051dd21a2a",
   "metadata": {},
   "outputs": [],
   "source": []
  }
 ],
 "metadata": {
  "kernelspec": {
   "display_name": "tensorflow_env",
   "language": "python",
   "name": "python3"
  },
  "language_info": {
   "codemirror_mode": {
    "name": "ipython",
    "version": 3
   },
   "file_extension": ".py",
   "mimetype": "text/x-python",
   "name": "python",
   "nbconvert_exporter": "python",
   "pygments_lexer": "ipython3",
   "version": "3.10.16"
  }
 },
 "nbformat": 4,
 "nbformat_minor": 5
}
